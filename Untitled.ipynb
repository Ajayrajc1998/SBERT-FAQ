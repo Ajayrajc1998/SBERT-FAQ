{
 "cells": [
  {
   "cell_type": "markdown",
   "id": "48921d25",
   "metadata": {},
   "source": [
    "### Installing the required Libraries"
   ]
  },
  {
   "cell_type": "code",
   "execution_count": 9,
   "id": "6ad717d5",
   "metadata": {},
   "outputs": [
    {
     "data": {
      "text/plain": [
       "'E:\\\\BROCAMP\\\\DS\\\\Mini Project'"
      ]
     },
     "execution_count": 9,
     "metadata": {},
     "output_type": "execute_result"
    }
   ],
   "source": [
    "import os\n",
    "os.getcwd()"
   ]
  },
  {
   "cell_type": "code",
   "execution_count": 10,
   "id": "4ddb5e38",
   "metadata": {},
   "outputs": [
    {
     "name": "stdout",
     "output_type": "stream",
     "text": [
      "Collecting sentence-transformers\n",
      "  Downloading sentence_transformers-2.3.1-py3-none-any.whl (132 kB)\n",
      "     -------------------------------------- 132.8/132.8 kB 2.0 MB/s eta 0:00:00\n",
      "Collecting sentencepiece\n",
      "  Downloading sentencepiece-0.2.0-cp39-cp39-win_amd64.whl (991 kB)\n",
      "     -------------------------------------- 991.5/991.5 kB 3.3 MB/s eta 0:00:00\n",
      "Collecting nltk\n",
      "  Using cached nltk-3.8.1-py3-none-any.whl (1.5 MB)\n",
      "Requirement already satisfied: tqdm in e:\\progamfiles\\anaconda\\lib\\site-packages (from sentence-transformers) (4.64.1)\n",
      "Collecting huggingface-hub>=0.15.1\n",
      "  Downloading huggingface_hub-0.20.3-py3-none-any.whl (330 kB)\n",
      "     -------------------------------------- 330.1/330.1 kB 3.4 MB/s eta 0:00:00\n",
      "Requirement already satisfied: Pillow in e:\\progamfiles\\anaconda\\lib\\site-packages (from sentence-transformers) (9.3.0)\n",
      "Requirement already satisfied: scikit-learn in e:\\progamfiles\\anaconda\\lib\\site-packages (from sentence-transformers) (1.4.0)\n",
      "Collecting transformers<5.0.0,>=4.32.0\n",
      "  Downloading transformers-4.38.1-py3-none-any.whl (8.5 MB)\n",
      "     ---------------------------------------- 8.5/8.5 MB 3.1 MB/s eta 0:00:00\n",
      "Collecting torch>=1.11.0\n",
      "  Downloading torch-2.2.1-cp39-cp39-win_amd64.whl (198.5 MB)\n",
      "     -------------------------------------- 198.5/198.5 MB 2.0 MB/s eta 0:00:00\n",
      "Requirement already satisfied: scipy in e:\\progamfiles\\anaconda\\lib\\site-packages (from sentence-transformers) (1.10.1)\n",
      "Requirement already satisfied: numpy in e:\\progamfiles\\anaconda\\lib\\site-packages (from sentence-transformers) (1.24.2)\n",
      "Requirement already satisfied: pyyaml>=5.1 in e:\\progamfiles\\anaconda\\lib\\site-packages (from huggingface-hub>=0.15.1->sentence-transformers) (6.0)\n",
      "Requirement already satisfied: typing-extensions>=3.7.4.3 in e:\\progamfiles\\anaconda\\lib\\site-packages (from huggingface-hub>=0.15.1->sentence-transformers) (4.4.0)\n",
      "Requirement already satisfied: packaging>=20.9 in e:\\progamfiles\\anaconda\\lib\\site-packages (from huggingface-hub>=0.15.1->sentence-transformers) (22.0)\n",
      "Requirement already satisfied: filelock in e:\\progamfiles\\anaconda\\lib\\site-packages (from huggingface-hub>=0.15.1->sentence-transformers) (3.9.0)\n",
      "Requirement already satisfied: requests in e:\\progamfiles\\anaconda\\lib\\site-packages (from huggingface-hub>=0.15.1->sentence-transformers) (2.28.1)\n",
      "Collecting fsspec>=2023.5.0\n",
      "  Downloading fsspec-2024.2.0-py3-none-any.whl (170 kB)\n",
      "     -------------------------------------- 170.9/170.9 kB 3.4 MB/s eta 0:00:00\n",
      "Collecting networkx\n",
      "  Using cached networkx-3.2.1-py3-none-any.whl (1.6 MB)\n",
      "Collecting sympy\n",
      "  Using cached sympy-1.12-py3-none-any.whl (5.7 MB)\n",
      "Requirement already satisfied: jinja2 in e:\\progamfiles\\anaconda\\lib\\site-packages (from torch>=1.11.0->sentence-transformers) (3.1.2)\n",
      "Collecting typing-extensions>=3.7.4.3\n",
      "  Using cached typing_extensions-4.9.0-py3-none-any.whl (32 kB)\n",
      "Requirement already satisfied: colorama in e:\\progamfiles\\anaconda\\lib\\site-packages (from tqdm->sentence-transformers) (0.4.6)\n",
      "Collecting regex!=2019.12.17\n",
      "  Downloading regex-2023.12.25-cp39-cp39-win_amd64.whl (269 kB)\n",
      "     -------------------------------------- 269.5/269.5 kB 3.3 MB/s eta 0:00:00\n",
      "Collecting safetensors>=0.4.1\n",
      "  Downloading safetensors-0.4.2-cp39-none-win_amd64.whl (269 kB)\n",
      "     -------------------------------------- 269.7/269.7 kB 4.1 MB/s eta 0:00:00\n",
      "Collecting tokenizers<0.19,>=0.14\n",
      "  Downloading tokenizers-0.15.2-cp39-none-win_amd64.whl (2.2 MB)\n",
      "     ---------------------------------------- 2.2/2.2 MB 3.1 MB/s eta 0:00:00\n",
      "Requirement already satisfied: click in e:\\progamfiles\\anaconda\\lib\\site-packages (from nltk->sentence-transformers) (8.0.4)\n",
      "Requirement already satisfied: joblib in e:\\progamfiles\\anaconda\\lib\\site-packages (from nltk->sentence-transformers) (1.3.2)\n",
      "Requirement already satisfied: threadpoolctl>=2.0.0 in e:\\progamfiles\\anaconda\\lib\\site-packages (from scikit-learn->sentence-transformers) (3.2.0)\n",
      "Requirement already satisfied: MarkupSafe>=2.0 in e:\\progamfiles\\anaconda\\lib\\site-packages (from jinja2->torch>=1.11.0->sentence-transformers) (2.1.1)\n",
      "Requirement already satisfied: urllib3<1.27,>=1.21.1 in e:\\progamfiles\\anaconda\\lib\\site-packages (from requests->huggingface-hub>=0.15.1->sentence-transformers) (1.26.14)\n",
      "Requirement already satisfied: idna<4,>=2.5 in e:\\progamfiles\\anaconda\\lib\\site-packages (from requests->huggingface-hub>=0.15.1->sentence-transformers) (3.4)\n",
      "Requirement already satisfied: charset-normalizer<3,>=2 in e:\\progamfiles\\anaconda\\lib\\site-packages (from requests->huggingface-hub>=0.15.1->sentence-transformers) (2.0.4)\n",
      "Requirement already satisfied: certifi>=2017.4.17 in e:\\progamfiles\\anaconda\\lib\\site-packages (from requests->huggingface-hub>=0.15.1->sentence-transformers) (2022.12.7)\n",
      "Collecting mpmath>=0.19\n",
      "  Using cached mpmath-1.3.0-py3-none-any.whl (536 kB)\n",
      "Installing collected packages: sentencepiece, mpmath, typing-extensions, sympy, safetensors, regex, networkx, fsspec, torch, nltk, huggingface-hub, tokenizers, transformers, sentence-transformers\n",
      "  Attempting uninstall: typing-extensions\n",
      "    Found existing installation: typing_extensions 4.4.0\n",
      "    Uninstalling typing_extensions-4.4.0:\n",
      "      Successfully uninstalled typing_extensions-4.4.0\n",
      "Successfully installed fsspec-2024.2.0 huggingface-hub-0.20.3 mpmath-1.3.0 networkx-3.2.1 nltk-3.8.1 regex-2023.12.25 safetensors-0.4.2 sentence-transformers-2.3.1 sentencepiece-0.2.0 sympy-1.12 tokenizers-0.15.2 torch-2.2.1 transformers-4.38.1 typing-extensions-4.9.0\n"
     ]
    }
   ],
   "source": [
    "!pip install sentence-transformers"
   ]
  },
  {
   "cell_type": "code",
   "execution_count": 10,
   "id": "d09aeea7",
   "metadata": {},
   "outputs": [
    {
     "name": "stdout",
     "output_type": "stream",
     "text": [
      "Collecting sentence-transformers==2.2.2\n",
      "  Using cached sentence-transformers-2.2.2.tar.gz (85 kB)\n",
      "  Preparing metadata (setup.py): started\n",
      "  Preparing metadata (setup.py): finished with status 'done'\n",
      "Requirement already satisfied: transformers<5.0.0,>=4.6.0 in e:\\progamfiles\\anaconda\\lib\\site-packages (from sentence-transformers==2.2.2) (4.38.1)\n",
      "Requirement already satisfied: tqdm in e:\\progamfiles\\anaconda\\lib\\site-packages (from sentence-transformers==2.2.2) (4.64.1)\n",
      "Requirement already satisfied: torch>=1.6.0 in e:\\progamfiles\\anaconda\\lib\\site-packages (from sentence-transformers==2.2.2) (2.2.1)\n",
      "Collecting torchvision\n",
      "  Downloading torchvision-0.17.1-cp39-cp39-win_amd64.whl (1.2 MB)\n",
      "     ---------------------------------------- 1.2/1.2 MB 3.1 MB/s eta 0:00:00\n",
      "Requirement already satisfied: numpy in e:\\progamfiles\\anaconda\\lib\\site-packages (from sentence-transformers==2.2.2) (1.26.4)\n",
      "Requirement already satisfied: scikit-learn in e:\\progamfiles\\anaconda\\lib\\site-packages (from sentence-transformers==2.2.2) (1.4.0)\n",
      "Requirement already satisfied: scipy in e:\\progamfiles\\anaconda\\lib\\site-packages (from sentence-transformers==2.2.2) (1.10.1)\n",
      "Requirement already satisfied: nltk in e:\\progamfiles\\anaconda\\lib\\site-packages (from sentence-transformers==2.2.2) (3.8.1)\n",
      "Requirement already satisfied: sentencepiece in e:\\progamfiles\\anaconda\\lib\\site-packages (from sentence-transformers==2.2.2) (0.2.0)\n",
      "Requirement already satisfied: huggingface-hub>=0.4.0 in e:\\progamfiles\\anaconda\\lib\\site-packages (from sentence-transformers==2.2.2) (0.20.3)\n",
      "Requirement already satisfied: pyyaml>=5.1 in e:\\progamfiles\\anaconda\\lib\\site-packages (from huggingface-hub>=0.4.0->sentence-transformers==2.2.2) (6.0.1)\n",
      "Requirement already satisfied: fsspec>=2023.5.0 in e:\\progamfiles\\anaconda\\lib\\site-packages (from huggingface-hub>=0.4.0->sentence-transformers==2.2.2) (2024.2.0)\n",
      "Requirement already satisfied: packaging>=20.9 in e:\\progamfiles\\anaconda\\lib\\site-packages (from huggingface-hub>=0.4.0->sentence-transformers==2.2.2) (23.2)\n",
      "Requirement already satisfied: filelock in e:\\progamfiles\\anaconda\\lib\\site-packages (from huggingface-hub>=0.4.0->sentence-transformers==2.2.2) (3.9.0)\n",
      "Requirement already satisfied: typing-extensions>=3.7.4.3 in e:\\progamfiles\\anaconda\\lib\\site-packages (from huggingface-hub>=0.4.0->sentence-transformers==2.2.2) (4.9.0)\n",
      "Requirement already satisfied: requests in e:\\progamfiles\\anaconda\\lib\\site-packages (from huggingface-hub>=0.4.0->sentence-transformers==2.2.2) (2.28.1)\n",
      "Requirement already satisfied: networkx in e:\\progamfiles\\anaconda\\lib\\site-packages (from torch>=1.6.0->sentence-transformers==2.2.2) (3.2.1)\n",
      "Requirement already satisfied: sympy in e:\\progamfiles\\anaconda\\lib\\site-packages (from torch>=1.6.0->sentence-transformers==2.2.2) (1.12)\n",
      "Requirement already satisfied: jinja2 in e:\\progamfiles\\anaconda\\lib\\site-packages (from torch>=1.6.0->sentence-transformers==2.2.2) (3.1.2)\n",
      "Requirement already satisfied: colorama in e:\\progamfiles\\anaconda\\lib\\site-packages (from tqdm->sentence-transformers==2.2.2) (0.4.6)\n",
      "Requirement already satisfied: regex!=2019.12.17 in e:\\progamfiles\\anaconda\\lib\\site-packages (from transformers<5.0.0,>=4.6.0->sentence-transformers==2.2.2) (2023.12.25)\n",
      "Requirement already satisfied: tokenizers<0.19,>=0.14 in e:\\progamfiles\\anaconda\\lib\\site-packages (from transformers<5.0.0,>=4.6.0->sentence-transformers==2.2.2) (0.15.2)\n",
      "Requirement already satisfied: safetensors>=0.4.1 in e:\\progamfiles\\anaconda\\lib\\site-packages (from transformers<5.0.0,>=4.6.0->sentence-transformers==2.2.2) (0.4.2)\n",
      "Requirement already satisfied: click in e:\\progamfiles\\anaconda\\lib\\site-packages (from nltk->sentence-transformers==2.2.2) (8.0.4)\n",
      "Requirement already satisfied: joblib in e:\\progamfiles\\anaconda\\lib\\site-packages (from nltk->sentence-transformers==2.2.2) (1.3.2)\n",
      "Requirement already satisfied: threadpoolctl>=2.0.0 in e:\\progamfiles\\anaconda\\lib\\site-packages (from scikit-learn->sentence-transformers==2.2.2) (3.3.0)\n",
      "Requirement already satisfied: pillow!=8.3.*,>=5.3.0 in e:\\progamfiles\\anaconda\\lib\\site-packages (from torchvision->sentence-transformers==2.2.2) (10.2.0)\n",
      "Requirement already satisfied: MarkupSafe>=2.0 in e:\\progamfiles\\anaconda\\lib\\site-packages (from jinja2->torch>=1.6.0->sentence-transformers==2.2.2) (2.1.1)\n",
      "Requirement already satisfied: charset-normalizer<3,>=2 in e:\\progamfiles\\anaconda\\lib\\site-packages (from requests->huggingface-hub>=0.4.0->sentence-transformers==2.2.2) (2.0.4)\n",
      "Requirement already satisfied: urllib3<1.27,>=1.21.1 in e:\\progamfiles\\anaconda\\lib\\site-packages (from requests->huggingface-hub>=0.4.0->sentence-transformers==2.2.2) (1.26.18)\n",
      "Requirement already satisfied: certifi>=2017.4.17 in e:\\progamfiles\\anaconda\\lib\\site-packages (from requests->huggingface-hub>=0.4.0->sentence-transformers==2.2.2) (2022.12.7)\n",
      "Requirement already satisfied: idna<4,>=2.5 in e:\\progamfiles\\anaconda\\lib\\site-packages (from requests->huggingface-hub>=0.4.0->sentence-transformers==2.2.2) (3.4)\n",
      "Requirement already satisfied: mpmath>=0.19 in e:\\progamfiles\\anaconda\\lib\\site-packages (from sympy->torch>=1.6.0->sentence-transformers==2.2.2) (1.3.0)\n",
      "Building wheels for collected packages: sentence-transformers\n",
      "  Building wheel for sentence-transformers (setup.py): started\n",
      "  Building wheel for sentence-transformers (setup.py): finished with status 'done'\n",
      "  Created wheel for sentence-transformers: filename=sentence_transformers-2.2.2-py3-none-any.whl size=125960 sha256=3e0399751dbfb4da6d73d2395d02580829112b45f8222d25101c1fde179a5a20\n",
      "  Stored in directory: c:\\users\\aksha\\appdata\\local\\pip\\cache\\wheels\\4b\\68\\65\\aba8be86302d9988b832f5e1f3417a87e4a868d396e4329f0a\n",
      "Successfully built sentence-transformers\n",
      "Installing collected packages: torchvision, sentence-transformers\n",
      "  Attempting uninstall: sentence-transformers\n",
      "    Found existing installation: sentence-transformers 2.3.1\n",
      "    Uninstalling sentence-transformers-2.3.1:\n",
      "      Successfully uninstalled sentence-transformers-2.3.1\n",
      "Successfully installed sentence-transformers-2.2.2 torchvision-0.17.1\n"
     ]
    }
   ],
   "source": [
    "!pip install sentence-transformers==2.2.2"
   ]
  },
  {
   "cell_type": "code",
   "execution_count": 19,
   "id": "7c64f0ec",
   "metadata": {},
   "outputs": [
    {
     "name": "stdout",
     "output_type": "stream",
     "text": [
      "Requirement already satisfied: sentence-transformers in e:\\brocamp\\ds\\mini project\\sentence-transformers (2.4.0.dev0)\n",
      "Requirement already satisfied: transformers in e:\\progamfiles\\anaconda\\lib\\site-packages (4.38.1)\n",
      "Requirement already satisfied: tqdm in e:\\progamfiles\\anaconda\\lib\\site-packages (from sentence-transformers) (4.64.1)\n",
      "Requirement already satisfied: torch>=1.11.0 in e:\\progamfiles\\anaconda\\lib\\site-packages (from sentence-transformers) (2.2.1)\n",
      "Requirement already satisfied: numpy in e:\\progamfiles\\anaconda\\lib\\site-packages (from sentence-transformers) (1.26.4)\n",
      "Requirement already satisfied: scikit-learn in e:\\progamfiles\\anaconda\\lib\\site-packages (from sentence-transformers) (1.4.0)\n",
      "Requirement already satisfied: scipy in e:\\progamfiles\\anaconda\\lib\\site-packages (from sentence-transformers) (1.10.1)\n",
      "Requirement already satisfied: huggingface-hub>=0.15.1 in e:\\progamfiles\\anaconda\\lib\\site-packages (from sentence-transformers) (0.20.3)\n",
      "Requirement already satisfied: Pillow in e:\\progamfiles\\anaconda\\lib\\site-packages (from sentence-transformers) (10.2.0)\n",
      "Requirement already satisfied: safetensors>=0.4.1 in e:\\progamfiles\\anaconda\\lib\\site-packages (from transformers) (0.4.2)\n",
      "Requirement already satisfied: tokenizers<0.19,>=0.14 in e:\\progamfiles\\anaconda\\lib\\site-packages (from transformers) (0.15.2)\n",
      "Requirement already satisfied: filelock in e:\\progamfiles\\anaconda\\lib\\site-packages (from transformers) (3.9.0)\n",
      "Requirement already satisfied: regex!=2019.12.17 in e:\\progamfiles\\anaconda\\lib\\site-packages (from transformers) (2023.12.25)\n",
      "Requirement already satisfied: pyyaml>=5.1 in e:\\progamfiles\\anaconda\\lib\\site-packages (from transformers) (6.0.1)\n",
      "Requirement already satisfied: packaging>=20.0 in e:\\progamfiles\\anaconda\\lib\\site-packages (from transformers) (23.2)\n",
      "Requirement already satisfied: requests in e:\\progamfiles\\anaconda\\lib\\site-packages (from transformers) (2.28.1)\n",
      "Requirement already satisfied: fsspec>=2023.5.0 in e:\\progamfiles\\anaconda\\lib\\site-packages (from huggingface-hub>=0.15.1->sentence-transformers) (2024.2.0)\n",
      "Requirement already satisfied: typing-extensions>=3.7.4.3 in e:\\progamfiles\\anaconda\\lib\\site-packages (from huggingface-hub>=0.15.1->sentence-transformers) (4.9.0)\n",
      "Requirement already satisfied: networkx in e:\\progamfiles\\anaconda\\lib\\site-packages (from torch>=1.11.0->sentence-transformers) (3.2.1)\n",
      "Requirement already satisfied: jinja2 in e:\\progamfiles\\anaconda\\lib\\site-packages (from torch>=1.11.0->sentence-transformers) (3.1.2)\n",
      "Requirement already satisfied: sympy in e:\\progamfiles\\anaconda\\lib\\site-packages (from torch>=1.11.0->sentence-transformers) (1.12)\n",
      "Requirement already satisfied: colorama in e:\\progamfiles\\anaconda\\lib\\site-packages (from tqdm->sentence-transformers) (0.4.6)\n",
      "Requirement already satisfied: certifi>=2017.4.17 in e:\\progamfiles\\anaconda\\lib\\site-packages (from requests->transformers) (2022.12.7)\n",
      "Requirement already satisfied: idna<4,>=2.5 in e:\\progamfiles\\anaconda\\lib\\site-packages (from requests->transformers) (3.4)\n",
      "Requirement already satisfied: charset-normalizer<3,>=2 in e:\\progamfiles\\anaconda\\lib\\site-packages (from requests->transformers) (2.0.4)\n",
      "Requirement already satisfied: urllib3<1.27,>=1.21.1 in e:\\progamfiles\\anaconda\\lib\\site-packages (from requests->transformers) (1.26.18)\n",
      "Requirement already satisfied: threadpoolctl>=2.0.0 in e:\\progamfiles\\anaconda\\lib\\site-packages (from scikit-learn->sentence-transformers) (3.3.0)\n",
      "Requirement already satisfied: joblib>=1.2.0 in e:\\progamfiles\\anaconda\\lib\\site-packages (from scikit-learn->sentence-transformers) (1.3.2)\n",
      "Requirement already satisfied: MarkupSafe>=2.0 in e:\\progamfiles\\anaconda\\lib\\site-packages (from jinja2->torch>=1.11.0->sentence-transformers) (2.1.1)\n",
      "Requirement already satisfied: mpmath>=0.19 in e:\\progamfiles\\anaconda\\lib\\site-packages (from sympy->torch>=1.11.0->sentence-transformers) (1.3.0)\n"
     ]
    }
   ],
   "source": [
    "!pip install --upgrade sentence-transformers transformers"
   ]
  },
  {
   "cell_type": "code",
   "execution_count": 1,
   "id": "3d4512c1",
   "metadata": {},
   "outputs": [
    {
     "name": "stderr",
     "output_type": "stream",
     "text": [
      "E:\\mini project 3\\venv\\Lib\\site-packages\\tqdm\\auto.py:21: TqdmWarning: IProgress not found. Please update jupyter and ipywidgets. See https://ipywidgets.readthedocs.io/en/stable/user_install.html\n",
      "  from .autonotebook import tqdm as notebook_tqdm\n",
      "pytorch_model.bin: 100%|████████████████████████████████████████████████████████████| 438M/438M [02:20<00:00, 3.12MB/s]\n",
      "E:\\mini project 3\\venv\\Lib\\site-packages\\huggingface_hub\\file_download.py:149: UserWarning: `huggingface_hub` cache-system uses symlinks by default to efficiently store duplicated files but your machine does not support them in C:\\Users\\aksha\\.cache\\huggingface\\hub\\models--sentence-transformers--bert-base-nli-mean-tokens. Caching files will still work but in a degraded version that might require more space on your disk. This warning can be disabled by setting the `HF_HUB_DISABLE_SYMLINKS_WARNING` environment variable. For more details, see https://huggingface.co/docs/huggingface_hub/how-to-cache#limitations.\n",
      "To support symlinks on Windows, you either need to activate Developer Mode or to run Python as an administrator. In order to see activate developer mode, see this article: https://docs.microsoft.com/en-us/windows/apps/get-started/enable-your-device-for-development\n",
      "  warnings.warn(message)\n",
      "tokenizer_config.json: 100%|██████████████████████████████████████████████████████████████████| 399/399 [00:00<?, ?B/s]\n",
      "vocab.txt: 100%|█████████████████████████████████████████████████████████████████████| 232k/232k [00:00<00:00, 588kB/s]\n",
      "tokenizer.json: 100%|████████████████████████████████████████████████████████████████| 466k/466k [00:00<00:00, 802kB/s]\n",
      "added_tokens.json: 100%|████████████████████████████████████████████████████████████| 2.00/2.00 [00:00<00:00, 2.01kB/s]\n",
      "special_tokens_map.json: 100%|████████████████████████████████████████████████████████████████| 112/112 [00:00<?, ?B/s]\n",
      "1_Pooling/config.json: 100%|██████████████████████████████████████████████████████████████████| 190/190 [00:00<?, ?B/s]\n"
     ]
    }
   ],
   "source": [
    "from sentence_transformers import SentenceTransformer\n",
    "\n",
    "sent_transformer = SentenceTransformer(\"bert-base-nli-mean-tokens\")\n",
    "\n",
    "questions = [\n",
    "\n",
    "    \"How to improve your conversation skills? \",\n",
    "\n",
    "    \"Who decides the appointment of Governor in India? \",\n",
    "\n",
    "    \"What is the best way to earn money online?\",\n",
    "\n",
    "    \"Who is the head of the Government in India?\",\n",
    "\n",
    "    \"How do I improve my English speaking skills? \"\n",
    "\n",
    "]\n",
    "\n",
    "ques_embedd = sent_transformer.encode(questions)"
   ]
  },
  {
   "cell_type": "code",
   "execution_count": 2,
   "id": "d80f53f5",
   "metadata": {
    "scrolled": true
   },
   "outputs": [
    {
     "data": {
      "text/plain": [
       "array([[-0.21651794, -0.18926948,  1.9230164 , ..., -0.29683307,\n",
       "        -0.49262646, -0.44595915],\n",
       "       [-0.4653901 , -0.34177637,  1.0578117 , ..., -0.9830757 ,\n",
       "        -0.4267068 ,  0.1719605 ],\n",
       "       [-0.34007606, -0.17230661,  0.99810106, ..., -1.1255707 ,\n",
       "        -0.5617811 ,  0.28282303],\n",
       "       [-0.2791709 , -0.2500932 ,  0.40059984, ..., -1.0635371 ,\n",
       "        -0.45658317,  0.25968984],\n",
       "       [-0.97366244,  0.50221044,  0.64046055, ...,  0.20426334,\n",
       "        -0.2779098 ,  0.14526956]], dtype=float32)"
      ]
     },
     "execution_count": 2,
     "metadata": {},
     "output_type": "execute_result"
    }
   ],
   "source": [
    "ques_embedd"
   ]
  },
  {
   "cell_type": "code",
   "execution_count": 5,
   "id": "ea59d488",
   "metadata": {},
   "outputs": [
    {
     "ename": "ValueError",
     "evalue": "URL must include a 'scheme', 'host', and 'port' component (ie 'https://localhost:9200')",
     "output_type": "error",
     "traceback": [
      "\u001b[1;31m---------------------------------------------------------------------------\u001b[0m",
      "\u001b[1;31mValueError\u001b[0m                                Traceback (most recent call last)",
      "Cell \u001b[1;32mIn[5], line 3\u001b[0m\n\u001b[0;32m      1\u001b[0m \u001b[38;5;28;01mfrom\u001b[39;00m \u001b[38;5;21;01melasticsearch\u001b[39;00m \u001b[38;5;28;01mimport\u001b[39;00m Elasticsearch\n\u001b[0;32m      2\u001b[0m \u001b[38;5;66;03m# defingin python client for elastic search\u001b[39;00m\n\u001b[1;32m----> 3\u001b[0m es_client \u001b[38;5;241m=\u001b[39m \u001b[43mElasticsearch\u001b[49m\u001b[43m(\u001b[49m\u001b[38;5;124;43m\"\u001b[39;49m\u001b[38;5;124;43mlocalhost:8888\u001b[39;49m\u001b[38;5;124;43m\"\u001b[39;49m\u001b[43m)\u001b[49m\n\u001b[0;32m      5\u001b[0m INDEX_NAME \u001b[38;5;241m=\u001b[39m \u001b[38;5;124m\"\u001b[39m\u001b[38;5;124mchat_bot_index\u001b[39m\u001b[38;5;124m\"\u001b[39m\n\u001b[0;32m      8\u001b[0m \u001b[38;5;66;03m#index dimensions for numpy array i.e. 768\u001b[39;00m\n",
      "File \u001b[1;32mE:\\mini project 3\\venv\\Lib\\site-packages\\elasticsearch\\_sync\\client\\__init__.py:335\u001b[0m, in \u001b[0;36mElasticsearch.__init__\u001b[1;34m(self, hosts, cloud_id, api_key, basic_auth, bearer_auth, opaque_id, headers, connections_per_node, http_compress, verify_certs, ca_certs, client_cert, client_key, ssl_assert_hostname, ssl_assert_fingerprint, ssl_version, ssl_context, ssl_show_warn, transport_class, request_timeout, node_class, node_pool_class, randomize_nodes_in_pool, node_selector_class, dead_node_backoff_factor, max_dead_node_backoff, serializer, serializers, default_mimetype, max_retries, retry_on_status, retry_on_timeout, sniff_on_start, sniff_before_requests, sniff_on_node_failure, sniff_timeout, min_delay_between_sniffing, sniffed_node_callback, meta_header, timeout, randomize_hosts, host_info_callback, sniffer_timeout, sniff_on_connection_fail, http_auth, maxsize, _transport)\u001b[0m\n\u001b[0;32m    332\u001b[0m         requests_session_auth \u001b[38;5;241m=\u001b[39m http_auth\n\u001b[0;32m    333\u001b[0m         http_auth \u001b[38;5;241m=\u001b[39m DEFAULT\n\u001b[1;32m--> 335\u001b[0m node_configs \u001b[38;5;241m=\u001b[39m \u001b[43mclient_node_configs\u001b[49m\u001b[43m(\u001b[49m\n\u001b[0;32m    336\u001b[0m \u001b[43m    \u001b[49m\u001b[43mhosts\u001b[49m\u001b[43m,\u001b[49m\n\u001b[0;32m    337\u001b[0m \u001b[43m    \u001b[49m\u001b[43mcloud_id\u001b[49m\u001b[38;5;241;43m=\u001b[39;49m\u001b[43mcloud_id\u001b[49m\u001b[43m,\u001b[49m\n\u001b[0;32m    338\u001b[0m \u001b[43m    \u001b[49m\u001b[43mrequests_session_auth\u001b[49m\u001b[38;5;241;43m=\u001b[39;49m\u001b[43mrequests_session_auth\u001b[49m\u001b[43m,\u001b[49m\n\u001b[0;32m    339\u001b[0m \u001b[43m    \u001b[49m\u001b[43mconnections_per_node\u001b[49m\u001b[38;5;241;43m=\u001b[39;49m\u001b[43mconnections_per_node\u001b[49m\u001b[43m,\u001b[49m\n\u001b[0;32m    340\u001b[0m \u001b[43m    \u001b[49m\u001b[43mhttp_compress\u001b[49m\u001b[38;5;241;43m=\u001b[39;49m\u001b[43mhttp_compress\u001b[49m\u001b[43m,\u001b[49m\n\u001b[0;32m    341\u001b[0m \u001b[43m    \u001b[49m\u001b[43mverify_certs\u001b[49m\u001b[38;5;241;43m=\u001b[39;49m\u001b[43mverify_certs\u001b[49m\u001b[43m,\u001b[49m\n\u001b[0;32m    342\u001b[0m \u001b[43m    \u001b[49m\u001b[43mca_certs\u001b[49m\u001b[38;5;241;43m=\u001b[39;49m\u001b[43mca_certs\u001b[49m\u001b[43m,\u001b[49m\n\u001b[0;32m    343\u001b[0m \u001b[43m    \u001b[49m\u001b[43mclient_cert\u001b[49m\u001b[38;5;241;43m=\u001b[39;49m\u001b[43mclient_cert\u001b[49m\u001b[43m,\u001b[49m\n\u001b[0;32m    344\u001b[0m \u001b[43m    \u001b[49m\u001b[43mclient_key\u001b[49m\u001b[38;5;241;43m=\u001b[39;49m\u001b[43mclient_key\u001b[49m\u001b[43m,\u001b[49m\n\u001b[0;32m    345\u001b[0m \u001b[43m    \u001b[49m\u001b[43mssl_assert_hostname\u001b[49m\u001b[38;5;241;43m=\u001b[39;49m\u001b[43mssl_assert_hostname\u001b[49m\u001b[43m,\u001b[49m\n\u001b[0;32m    346\u001b[0m \u001b[43m    \u001b[49m\u001b[43mssl_assert_fingerprint\u001b[49m\u001b[38;5;241;43m=\u001b[39;49m\u001b[43mssl_assert_fingerprint\u001b[49m\u001b[43m,\u001b[49m\n\u001b[0;32m    347\u001b[0m \u001b[43m    \u001b[49m\u001b[43mssl_version\u001b[49m\u001b[38;5;241;43m=\u001b[39;49m\u001b[43mssl_version\u001b[49m\u001b[43m,\u001b[49m\n\u001b[0;32m    348\u001b[0m \u001b[43m    \u001b[49m\u001b[43mssl_context\u001b[49m\u001b[38;5;241;43m=\u001b[39;49m\u001b[43mssl_context\u001b[49m\u001b[43m,\u001b[49m\n\u001b[0;32m    349\u001b[0m \u001b[43m    \u001b[49m\u001b[43mssl_show_warn\u001b[49m\u001b[38;5;241;43m=\u001b[39;49m\u001b[43mssl_show_warn\u001b[49m\u001b[43m,\u001b[49m\n\u001b[0;32m    350\u001b[0m \u001b[43m\u001b[49m\u001b[43m)\u001b[49m\n\u001b[0;32m    351\u001b[0m transport_kwargs: t\u001b[38;5;241m.\u001b[39mDict[\u001b[38;5;28mstr\u001b[39m, t\u001b[38;5;241m.\u001b[39mAny] \u001b[38;5;241m=\u001b[39m {}\n\u001b[0;32m    352\u001b[0m \u001b[38;5;28;01mif\u001b[39;00m node_class \u001b[38;5;129;01mis\u001b[39;00m \u001b[38;5;129;01mnot\u001b[39;00m DEFAULT:\n",
      "File \u001b[1;32mE:\\mini project 3\\venv\\Lib\\site-packages\\elasticsearch\\_sync\\client\\utils.py:110\u001b[0m, in \u001b[0;36mclient_node_configs\u001b[1;34m(hosts, cloud_id, requests_session_auth, **kwargs)\u001b[0m\n\u001b[0;32m    108\u001b[0m \u001b[38;5;28;01melse\u001b[39;00m:\n\u001b[0;32m    109\u001b[0m     \u001b[38;5;28;01massert\u001b[39;00m hosts \u001b[38;5;129;01mis\u001b[39;00m \u001b[38;5;129;01mnot\u001b[39;00m \u001b[38;5;28;01mNone\u001b[39;00m\n\u001b[1;32m--> 110\u001b[0m     node_configs \u001b[38;5;241m=\u001b[39m \u001b[43mhosts_to_node_configs\u001b[49m\u001b[43m(\u001b[49m\u001b[43mhosts\u001b[49m\u001b[43m)\u001b[49m\n\u001b[0;32m    112\u001b[0m \u001b[38;5;66;03m# Remove all values which are 'DEFAULT' to avoid overwriting actual defaults.\u001b[39;00m\n\u001b[0;32m    113\u001b[0m node_options \u001b[38;5;241m=\u001b[39m {k: v \u001b[38;5;28;01mfor\u001b[39;00m k, v \u001b[38;5;129;01min\u001b[39;00m kwargs\u001b[38;5;241m.\u001b[39mitems() \u001b[38;5;28;01mif\u001b[39;00m v \u001b[38;5;129;01mis\u001b[39;00m \u001b[38;5;129;01mnot\u001b[39;00m DEFAULT}\n",
      "File \u001b[1;32mE:\\mini project 3\\venv\\Lib\\site-packages\\elasticsearch\\_sync\\client\\utils.py:148\u001b[0m, in \u001b[0;36mhosts_to_node_configs\u001b[1;34m(hosts)\u001b[0m\n\u001b[0;32m    146\u001b[0m \u001b[38;5;66;03m# To make the logic here simpler we reroute everything to be List[X]\u001b[39;00m\n\u001b[0;32m    147\u001b[0m \u001b[38;5;28;01mif\u001b[39;00m \u001b[38;5;28misinstance\u001b[39m(hosts, \u001b[38;5;28mstr\u001b[39m):\n\u001b[1;32m--> 148\u001b[0m     \u001b[38;5;28;01mreturn\u001b[39;00m \u001b[43mhosts_to_node_configs\u001b[49m\u001b[43m(\u001b[49m\u001b[43m[\u001b[49m\u001b[43mhosts\u001b[49m\u001b[43m]\u001b[49m\u001b[43m)\u001b[49m\n\u001b[0;32m    150\u001b[0m node_configs: List[NodeConfig] \u001b[38;5;241m=\u001b[39m []\n\u001b[0;32m    151\u001b[0m \u001b[38;5;28;01mfor\u001b[39;00m host \u001b[38;5;129;01min\u001b[39;00m hosts:\n",
      "File \u001b[1;32mE:\\mini project 3\\venv\\Lib\\site-packages\\elasticsearch\\_sync\\client\\utils.py:156\u001b[0m, in \u001b[0;36mhosts_to_node_configs\u001b[1;34m(hosts)\u001b[0m\n\u001b[0;32m    153\u001b[0m     node_configs\u001b[38;5;241m.\u001b[39mappend(host)\n\u001b[0;32m    155\u001b[0m \u001b[38;5;28;01melif\u001b[39;00m \u001b[38;5;28misinstance\u001b[39m(host, \u001b[38;5;28mstr\u001b[39m):\n\u001b[1;32m--> 156\u001b[0m     node_configs\u001b[38;5;241m.\u001b[39mappend(\u001b[43murl_to_node_config\u001b[49m\u001b[43m(\u001b[49m\u001b[43mhost\u001b[49m\u001b[43m)\u001b[49m)\n\u001b[0;32m    158\u001b[0m \u001b[38;5;28;01melif\u001b[39;00m \u001b[38;5;28misinstance\u001b[39m(host, Mapping):\n\u001b[0;32m    159\u001b[0m     node_configs\u001b[38;5;241m.\u001b[39mappend(host_mapping_to_node_config(host))\n",
      "File \u001b[1;32mE:\\mini project 3\\venv\\Lib\\site-packages\\elastic_transport\\client_utils.py:213\u001b[0m, in \u001b[0;36murl_to_node_config\u001b[1;34m(url, use_default_ports_for_scheme)\u001b[0m\n\u001b[0;32m    207\u001b[0m         parsed_port \u001b[38;5;241m=\u001b[39m \u001b[38;5;241m80\u001b[39m\n\u001b[0;32m    209\u001b[0m \u001b[38;5;28;01mif\u001b[39;00m \u001b[38;5;28many\u001b[39m(\n\u001b[0;32m    210\u001b[0m     component \u001b[38;5;129;01min\u001b[39;00m (\u001b[38;5;28;01mNone\u001b[39;00m, \u001b[38;5;124m\"\u001b[39m\u001b[38;5;124m\"\u001b[39m)\n\u001b[0;32m    211\u001b[0m     \u001b[38;5;28;01mfor\u001b[39;00m component \u001b[38;5;129;01min\u001b[39;00m (parsed_url\u001b[38;5;241m.\u001b[39mscheme, parsed_url\u001b[38;5;241m.\u001b[39mhost, parsed_port)\n\u001b[0;32m    212\u001b[0m ):\n\u001b[1;32m--> 213\u001b[0m     \u001b[38;5;28;01mraise\u001b[39;00m \u001b[38;5;167;01mValueError\u001b[39;00m(\n\u001b[0;32m    214\u001b[0m         \u001b[38;5;124m\"\u001b[39m\u001b[38;5;124mURL must include a \u001b[39m\u001b[38;5;124m'\u001b[39m\u001b[38;5;124mscheme\u001b[39m\u001b[38;5;124m'\u001b[39m\u001b[38;5;124m, \u001b[39m\u001b[38;5;124m'\u001b[39m\u001b[38;5;124mhost\u001b[39m\u001b[38;5;124m'\u001b[39m\u001b[38;5;124m, and \u001b[39m\u001b[38;5;124m'\u001b[39m\u001b[38;5;124mport\u001b[39m\u001b[38;5;124m'\u001b[39m\u001b[38;5;124m component (ie \u001b[39m\u001b[38;5;124m'\u001b[39m\u001b[38;5;124mhttps://localhost:9200\u001b[39m\u001b[38;5;124m'\u001b[39m\u001b[38;5;124m)\u001b[39m\u001b[38;5;124m\"\u001b[39m\n\u001b[0;32m    215\u001b[0m     )\n\u001b[0;32m    216\u001b[0m \u001b[38;5;28;01massert\u001b[39;00m parsed_url\u001b[38;5;241m.\u001b[39mscheme \u001b[38;5;129;01mis\u001b[39;00m \u001b[38;5;129;01mnot\u001b[39;00m \u001b[38;5;28;01mNone\u001b[39;00m\n\u001b[0;32m    217\u001b[0m \u001b[38;5;28;01massert\u001b[39;00m parsed_url\u001b[38;5;241m.\u001b[39mhost \u001b[38;5;129;01mis\u001b[39;00m \u001b[38;5;129;01mnot\u001b[39;00m \u001b[38;5;28;01mNone\u001b[39;00m\n",
      "\u001b[1;31mValueError\u001b[0m: URL must include a 'scheme', 'host', and 'port' component (ie 'https://localhost:9200')"
     ]
    }
   ],
   "source": [
    "from elasticsearch import Elasticsearch\n",
    "# defingin python client for elastic search\n",
    "es_client = Elasticsearch(\"localhost:8888\")\n",
    "\n",
    "INDEX_NAME = \"chat_bot_index\"\n",
    "\n",
    "\n",
    "#index dimensions for numpy array i.e. 768\n",
    "dim_embedding = 768\n",
    "\n",
    "def create_index() -> None:\n",
    "\n",
    "    es_client.indices.delete(index=INDEX_NAME, ignore=404)\n",
    "\n",
    "    es_client.indices.create(\n",
    "\n",
    "        index=INDEX_NAME,\n",
    "\n",
    "        ignore=400,\n",
    "\n",
    "        body={\n",
    "\n",
    "            \"mappings\": {\n",
    "\n",
    "                \"properties\": {\n",
    "\n",
    "                    \"embedding\": {\n",
    "\n",
    "                        \"type\": \"dense_vector\",\n",
    "\n",
    "                        \"dims\": dim_embedding,\n",
    "\n",
    "                    },\n",
    "\n",
    "                    \"question\": {\n",
    "\n",
    "                        \"type\": \"text\",\n",
    "\n",
    "                    },\n",
    "\n",
    "                    \"answer\": {\n",
    "\n",
    "                        \"type\": \"text\",\n",
    "\n",
    "                    }\n",
    "\n",
    "                }\n",
    "\n",
    "            }\n",
    "\n",
    "        }\n",
    "\n",
    "    )\n",
    "\n",
    "\n",
    "\n",
    "create_index()"
   ]
  },
  {
   "cell_type": "code",
   "execution_count": null,
   "id": "a3b8a1ac",
   "metadata": {},
   "outputs": [],
   "source": []
  }
 ],
 "metadata": {
  "kernelspec": {
   "display_name": "faqBERT",
   "language": "python",
   "name": "faqbert"
  },
  "language_info": {
   "codemirror_mode": {
    "name": "ipython",
    "version": 3
   },
   "file_extension": ".py",
   "mimetype": "text/x-python",
   "name": "python",
   "nbconvert_exporter": "python",
   "pygments_lexer": "ipython3",
   "version": "3.12.1"
  },
  "varInspector": {
   "cols": {
    "lenName": 16,
    "lenType": 16,
    "lenVar": 40
   },
   "kernels_config": {
    "python": {
     "delete_cmd_postfix": "",
     "delete_cmd_prefix": "del ",
     "library": "var_list.py",
     "varRefreshCmd": "print(var_dic_list())"
    },
    "r": {
     "delete_cmd_postfix": ") ",
     "delete_cmd_prefix": "rm(",
     "library": "var_list.r",
     "varRefreshCmd": "cat(var_dic_list()) "
    }
   },
   "types_to_exclude": [
    "module",
    "function",
    "builtin_function_or_method",
    "instance",
    "_Feature"
   ],
   "window_display": false
  }
 },
 "nbformat": 4,
 "nbformat_minor": 5
}
